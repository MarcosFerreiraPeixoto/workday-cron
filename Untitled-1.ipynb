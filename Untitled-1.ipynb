{
 "cells": [
  {
   "cell_type": "code",
   "execution_count": 1,
   "metadata": {},
   "outputs": [
    {
     "name": "stdout",
     "output_type": "stream",
     "text": [
      "cron: 0 0 * * *, accuracy: 0.23529411764705882\n",
      "cron: 0 0 * * 2,4,5,1, accuracy: 0.17647058823529413\n",
      "cron: 0 0 2,3,4,5,1 * *, accuracy: 0.7647058823529411\n",
      "cron: 0 0 1W,2W,3W,4W * *, accuracy: 0.8235294117647058\n",
      "cron: 0 0 * * *, accuracy: 0.23529411764705882\n",
      "cron: 0 0 * * 2,4,5,1, accuracy: 0.17647058823529413\n",
      "cron: 0 0 2,3,4,5,1 * *, accuracy: 0.7647058823529411\n",
      "cron: 0 0 1W,2W,3W,4W * *, accuracy: 0.8823529411764706\n",
      "[datetime.datetime(2024, 1, 2, 2, 0), datetime.datetime(2024, 1, 3, 2, 0), datetime.datetime(2024, 1, 4, 2, 0), datetime.datetime(2024, 1, 5, 2, 0), datetime.datetime(2024, 2, 1, 2, 0), datetime.datetime(2024, 2, 2, 2, 0), datetime.datetime(2024, 2, 5, 4, 0), datetime.datetime(2024, 2, 6, 4, 0), datetime.datetime(2024, 2, 22, 4, 0), datetime.datetime(2024, 3, 1, 4, 0), datetime.datetime(2024, 3, 4, 4, 0), datetime.datetime(2024, 3, 5, 4, 0), datetime.datetime(2024, 3, 24, 6, 0), datetime.datetime(2024, 4, 1, 6, 0), datetime.datetime(2024, 4, 2, 6, 0), datetime.datetime(2024, 4, 3, 6, 0), datetime.datetime(2024, 4, 4, 4, 0)]\n"
     ]
    }
   ],
   "source": [
    "from datetime import datetime\n",
    "from predictor import ExecutionAnalyzer\n",
    "\n",
    "historical_data = [\n",
    "    datetime(2024, 1, 2, 2), datetime(2024, 1, 3, 2), datetime(2024, 1, 4, 2), datetime(2024, 1, 5, 2),\n",
    "    datetime(2024, 2, 1, 2), datetime(2024, 2, 2, 2), datetime(2024, 2, 5, 4), datetime(2024, 2, 6, 4),\n",
    "    datetime(2024, 2, 22, 4), # Added trash\n",
    "    datetime(2024, 3, 1, 4), datetime(2024, 3, 4, 4), datetime(2024, 3, 5, 4), # Removed entry so simulate failed execution\n",
    "    datetime(2024, 3, 24, 6), # Added trash\n",
    "    datetime(2024, 4, 1, 6), datetime(2024, 4, 2, 6), datetime(2024, 4, 3, 6), datetime(2024, 4, 4, 4),\n",
    "]\n",
    "holidays = [\n",
    "    datetime(2024, 1, 1, 4), datetime(2024, 12, 25, 4), datetime(2024, 7, 4, 3)\n",
    "]\n",
    "\n",
    "analyzer = ExecutionAnalyzer(historical_data, holidays)\n",
    "pattern = analyzer.detect_pattern()\n"
   ]
  },
  {
   "cell_type": "code",
   "execution_count": 2,
   "metadata": {},
   "outputs": [
    {
     "data": {
      "text/plain": [
       "{'pattern': '0 4 1W,2W,3W,4W * *',\n",
       " 'hour_tolerance': 1,\n",
       " 'includes_holidays': True}"
      ]
     },
     "execution_count": 2,
     "metadata": {},
     "output_type": "execute_result"
    }
   ],
   "source": [
    "pattern"
   ]
  },
  {
   "cell_type": "code",
   "execution_count": null,
   "metadata": {},
   "outputs": [],
   "source": []
  }
 ],
 "metadata": {
  "kernelspec": {
   "display_name": "Python 3",
   "language": "python",
   "name": "python3"
  },
  "language_info": {
   "codemirror_mode": {
    "name": "ipython",
    "version": 3
   },
   "file_extension": ".py",
   "mimetype": "text/x-python",
   "name": "python",
   "nbconvert_exporter": "python",
   "pygments_lexer": "ipython3",
   "version": "3.12.3"
  }
 },
 "nbformat": 4,
 "nbformat_minor": 2
}
